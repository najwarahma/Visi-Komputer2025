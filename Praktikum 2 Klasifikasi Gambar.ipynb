{
  "nbformat": 4,
  "nbformat_minor": 0,
  "metadata": {
    "colab": {
      "provenance": [],
      "authorship_tag": "ABX9TyNjh0dkcgwRYyEPi7Ru9g4u",
      "include_colab_link": true
    },
    "kernelspec": {
      "name": "python3",
      "display_name": "Python 3"
    },
    "language_info": {
      "name": "python"
    }
  },
  "cells": [
    {
      "cell_type": "markdown",
      "metadata": {
        "id": "view-in-github",
        "colab_type": "text"
      },
      "source": [
        "<a href=\"https://colab.research.google.com/github/najwarahma/Visi-Komputer2025/blob/main/Praktikum%202%20Klasifikasi%20Gambar.ipynb\" target=\"_parent\"><img src=\"https://colab.research.google.com/assets/colab-badge.svg\" alt=\"Open In Colab\"/></a>"
      ]
    },
    {
      "cell_type": "markdown",
      "source": [
        "Praktikum D1-Memulai klasifikasi gambar dengan dataset sederhana"
      ],
      "metadata": {
        "id": "TFAV97Pc0dUZ"
      }
    },
    {
      "cell_type": "code",
      "execution_count": null,
      "metadata": {
        "id": "zzxYmTD2z5bj"
      },
      "outputs": [],
      "source": []
    }
  ]
}